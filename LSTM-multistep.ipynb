{
 "cells": [
  {
   "cell_type": "code",
   "execution_count": 2,
   "id": "d372f3ac",
   "metadata": {},
   "outputs": [
    {
     "name": "stdout",
     "output_type": "stream",
     "text": [
      "Epoch 1/50\n",
      "1/1 - 2s - loss: 4529.4897 - 2s/epoch - 2s/step\n",
      "Epoch 2/50\n",
      "1/1 - 0s - loss: 4487.1670 - 5ms/epoch - 5ms/step\n",
      "Epoch 3/50\n",
      "1/1 - 0s - loss: 4447.3428 - 11ms/epoch - 11ms/step\n",
      "Epoch 4/50\n",
      "1/1 - 0s - loss: 4409.1982 - 6ms/epoch - 6ms/step\n",
      "Epoch 5/50\n",
      "1/1 - 0s - loss: 4372.4062 - 12ms/epoch - 12ms/step\n",
      "Epoch 6/50\n",
      "1/1 - 0s - loss: 4335.4453 - 9ms/epoch - 9ms/step\n",
      "Epoch 7/50\n",
      "1/1 - 0s - loss: 4296.4658 - 8ms/epoch - 8ms/step\n",
      "Epoch 8/50\n",
      "1/1 - 0s - loss: 4253.8545 - 7ms/epoch - 7ms/step\n",
      "Epoch 9/50\n",
      "1/1 - 0s - loss: 4206.0923 - 6ms/epoch - 6ms/step\n",
      "Epoch 10/50\n",
      "1/1 - 0s - loss: 4151.3408 - 12ms/epoch - 12ms/step\n",
      "Epoch 11/50\n",
      "1/1 - 0s - loss: 4088.2395 - 8ms/epoch - 8ms/step\n",
      "Epoch 12/50\n",
      "1/1 - 0s - loss: 4014.5859 - 6ms/epoch - 6ms/step\n",
      "Epoch 13/50\n",
      "1/1 - 0s - loss: 3927.7017 - 10ms/epoch - 10ms/step\n",
      "Epoch 14/50\n",
      "1/1 - 0s - loss: 3824.7866 - 6ms/epoch - 6ms/step\n",
      "Epoch 15/50\n",
      "1/1 - 0s - loss: 3702.8032 - 10ms/epoch - 10ms/step\n",
      "Epoch 16/50\n",
      "1/1 - 0s - loss: 3558.7183 - 5ms/epoch - 5ms/step\n",
      "Epoch 17/50\n",
      "1/1 - 0s - loss: 3389.2173 - 12ms/epoch - 12ms/step\n",
      "Epoch 18/50\n",
      "1/1 - 0s - loss: 3190.7629 - 6ms/epoch - 6ms/step\n",
      "Epoch 19/50\n",
      "1/1 - 0s - loss: 2960.1704 - 12ms/epoch - 12ms/step\n",
      "Epoch 20/50\n",
      "1/1 - 0s - loss: 2695.2168 - 10ms/epoch - 10ms/step\n",
      "Epoch 21/50\n",
      "1/1 - 0s - loss: 2395.7336 - 5ms/epoch - 5ms/step\n",
      "Epoch 22/50\n",
      "1/1 - 0s - loss: 2064.5981 - 10ms/epoch - 10ms/step\n",
      "Epoch 23/50\n",
      "1/1 - 0s - loss: 1708.8557 - 7ms/epoch - 7ms/step\n",
      "Epoch 24/50\n",
      "1/1 - 0s - loss: 1339.7018 - 11ms/epoch - 11ms/step\n",
      "Epoch 25/50\n",
      "1/1 - 0s - loss: 973.6961 - 6ms/epoch - 6ms/step\n",
      "Epoch 26/50\n",
      "1/1 - 0s - loss: 636.2303 - 7ms/epoch - 7ms/step\n",
      "Epoch 27/50\n",
      "1/1 - 0s - loss: 369.1354 - 11ms/epoch - 11ms/step\n",
      "Epoch 28/50\n",
      "1/1 - 0s - loss: 236.3728 - 6ms/epoch - 6ms/step\n",
      "Epoch 29/50\n",
      "1/1 - 0s - loss: 292.1406 - 12ms/epoch - 12ms/step\n",
      "Epoch 30/50\n",
      "1/1 - 0s - loss: 482.8443 - 5ms/epoch - 5ms/step\n",
      "Epoch 31/50\n",
      "1/1 - 0s - loss: 635.8888 - 10ms/epoch - 10ms/step\n",
      "Epoch 32/50\n",
      "1/1 - 0s - loss: 655.2855 - 12ms/epoch - 12ms/step\n",
      "Epoch 33/50\n",
      "1/1 - 0s - loss: 562.5367 - 7ms/epoch - 7ms/step\n",
      "Epoch 34/50\n",
      "1/1 - 0s - loss: 422.6628 - 6ms/epoch - 6ms/step\n",
      "Epoch 35/50\n",
      "1/1 - 0s - loss: 293.8745 - 18ms/epoch - 18ms/step\n",
      "Epoch 36/50\n",
      "1/1 - 0s - loss: 204.7156 - 13ms/epoch - 13ms/step\n",
      "Epoch 37/50\n",
      "1/1 - 0s - loss: 158.6186 - 6ms/epoch - 6ms/step\n",
      "Epoch 38/50\n",
      "1/1 - 0s - loss: 146.6507 - 6ms/epoch - 6ms/step\n",
      "Epoch 39/50\n",
      "1/1 - 0s - loss: 156.2778 - 10ms/epoch - 10ms/step\n",
      "Epoch 40/50\n",
      "1/1 - 0s - loss: 175.5251 - 11ms/epoch - 11ms/step\n",
      "Epoch 41/50\n",
      "1/1 - 0s - loss: 195.0042 - 8ms/epoch - 8ms/step\n",
      "Epoch 42/50\n",
      "1/1 - 0s - loss: 208.5724 - 9ms/epoch - 9ms/step\n",
      "Epoch 43/50\n",
      "1/1 - 0s - loss: 213.0718 - 6ms/epoch - 6ms/step\n",
      "Epoch 44/50\n",
      "1/1 - 0s - loss: 207.6504 - 11ms/epoch - 11ms/step\n",
      "Epoch 45/50\n",
      "1/1 - 0s - loss: 193.0702 - 5ms/epoch - 5ms/step\n",
      "Epoch 46/50\n",
      "1/1 - 0s - loss: 171.2211 - 6ms/epoch - 6ms/step\n",
      "Epoch 47/50\n",
      "1/1 - 0s - loss: 144.7634 - 12ms/epoch - 12ms/step\n",
      "Epoch 48/50\n",
      "1/1 - 0s - loss: 116.7853 - 7ms/epoch - 7ms/step\n",
      "Epoch 49/50\n",
      "1/1 - 0s - loss: 90.4747 - 12ms/epoch - 12ms/step\n",
      "Epoch 50/50\n",
      "1/1 - 0s - loss: 69.0011 - 7ms/epoch - 7ms/step\n"
     ]
    },
    {
     "data": {
      "text/plain": [
       "<keras.callbacks.History at 0x1b617d3f220>"
      ]
     },
     "execution_count": 2,
     "metadata": {},
     "output_type": "execute_result"
    }
   ],
   "source": [
    "# univariate multi-step vector-output stacked lstm example\n",
    "from numpy import array\n",
    "from keras.models import Sequential\n",
    "from keras.layers import LSTM\n",
    "from keras.layers import Dense\n",
    "\n",
    "# split a univariate sequence into samples\n",
    "def split_sequence(sequence, n_steps_in, n_steps_out):\n",
    "\tX, y = list(), list()\n",
    "\tfor i in range(len(sequence)):\n",
    "\t\t# find the end of this pattern\n",
    "\t\tend_ix = i + n_steps_in\n",
    "\t\tout_end_ix = end_ix + n_steps_out\n",
    "\t\t# check if we are beyond the sequence\n",
    "\t\tif out_end_ix > len(sequence):\n",
    "\t\t\tbreak\n",
    "\t\t# gather input and output parts of the pattern\n",
    "\t\tseq_x, seq_y = sequence[i:end_ix], sequence[end_ix:out_end_ix]\n",
    "\t\tX.append(seq_x)\n",
    "\t\ty.append(seq_y)\n",
    "\treturn array(X), array(y)\n",
    "\n",
    "# define input sequence\n",
    "raw_seq = [10, 20, 30, 40, 50, 60, 70, 80, 90]\n",
    "# choose a number of time steps\n",
    "n_steps_in, n_steps_out = 3, 2\n",
    "# split into samples\n",
    "X, y = split_sequence(raw_seq, n_steps_in, n_steps_out)\n",
    "# reshape from [samples, timesteps] into [samples, timesteps, features]\n",
    "n_features = 1\n",
    "X = X.reshape((X.shape[0], X.shape[1], n_features))\n",
    "# define model\n",
    "model = Sequential()\n",
    "model.add(LSTM(100, activation='relu', return_sequences=True, input_shape=(n_steps_in, n_features)))\n",
    "model.add(LSTM(100, activation='relu'))\n",
    "model.add(Dense(n_steps_out))\n",
    "model.compile(optimizer='adam', loss='mse')\n",
    "# fit model\n",
    "model.fit(X, y, epochs=50, verbose=2)\n"
   ]
  },
  {
   "cell_type": "code",
   "execution_count": 8,
   "id": "a7a1daf5",
   "metadata": {},
   "outputs": [
    {
     "name": "stdout",
     "output_type": "stream",
     "text": [
      "[[112.33215 126.05088]]\n"
     ]
    }
   ],
   "source": [
    "# demonstrate prediction\n",
    "x_input = array(raw_seq[-n_steps_in:])\n",
    "x_input = x_input.reshape((1, n_steps_in, n_features))\n",
    "yhat = model.predict(x_input, verbose=0)\n",
    "print(yhat)"
   ]
  },
  {
   "cell_type": "code",
   "execution_count": 6,
   "id": "cf7bc174",
   "metadata": {},
   "outputs": [
    {
     "data": {
      "text/plain": [
       "[70, 80, 90]"
      ]
     },
     "execution_count": 6,
     "metadata": {},
     "output_type": "execute_result"
    }
   ],
   "source": []
  },
  {
   "cell_type": "code",
   "execution_count": null,
   "id": "630a1c3d",
   "metadata": {},
   "outputs": [],
   "source": []
  }
 ],
 "metadata": {
  "kernelspec": {
   "display_name": "Python 3 (ipykernel)",
   "language": "python",
   "name": "python3"
  },
  "language_info": {
   "codemirror_mode": {
    "name": "ipython",
    "version": 3
   },
   "file_extension": ".py",
   "mimetype": "text/x-python",
   "name": "python",
   "nbconvert_exporter": "python",
   "pygments_lexer": "ipython3",
   "version": "3.10.9"
  }
 },
 "nbformat": 4,
 "nbformat_minor": 5
}
